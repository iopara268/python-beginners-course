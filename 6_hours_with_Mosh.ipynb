{
  "nbformat": 4,
  "nbformat_minor": 0,
  "metadata": {
    "colab": {
      "provenance": []
    },
    "kernelspec": {
      "name": "python3",
      "display_name": "Python 3"
    },
    "language_info": {
      "name": "python"
    }
  },
  "cells": [
    {
      "cell_type": "code",
      "source": [
        "print (\"hello world\")"
      ],
      "metadata": {
        "colab": {
          "base_uri": "https://localhost:8080/"
        },
        "id": "PaJujo0mcfRi",
        "outputId": "587a174d-bdc2-440c-e66c-2e71788a7969"
      },
      "execution_count": 4,
      "outputs": [
        {
          "output_type": "stream",
          "name": "stdout",
          "text": [
            "hello world\n"
          ]
        }
      ]
    },
    {
      "cell_type": "code",
      "execution_count": 5,
      "metadata": {
        "id": "2ZT7IlTZKkQh",
        "colab": {
          "base_uri": "https://localhost:8080/"
        },
        "outputId": "4031e428-b389-49eb-bb5a-a0579d960d53"
      },
      "outputs": [
        {
          "output_type": "stream",
          "name": "stdout",
          "text": [
            "400\n"
          ]
        }
      ],
      "source": [
        "x=2*10\n",
        "x=20**2\n",
        "print(x)"
      ]
    },
    {
      "cell_type": "code",
      "source": [
        "#variables are used to stored items on the computer memomry\n",
        "# pyhton intepret the codes line by line\n",
        "price =10\n",
        "price+=20\n",
        "print(price)"
      ],
      "metadata": {
        "colab": {
          "base_uri": "https://localhost:8080/"
        },
        "id": "H6SevgGCzORA",
        "outputId": "0b03b9bb-093b-48b3-c1d2-ba19c37cab1d"
      },
      "execution_count": 6,
      "outputs": [
        {
          "output_type": "stream",
          "name": "stdout",
          "text": [
            "30\n"
          ]
        }
      ]
    },
    {
      "cell_type": "code",
      "source": [
        "#boolean numbers are true or false numbers\n",
        "#integers are whole numbers, floating number are decimal numbers, also known as floats\n"
      ],
      "metadata": {
        "id": "7aHx9iwI0B9C"
      },
      "execution_count": 7,
      "outputs": []
    },
    {
      "cell_type": "code",
      "source": [
        "patient_name= \"john smith\"\n",
        "age=\"20 years\"\n",
        "is_new = True\n",
        "print([patient_name, age, is_new])"
      ],
      "metadata": {
        "colab": {
          "base_uri": "https://localhost:8080/"
        },
        "id": "4VP9TeOUM_li",
        "outputId": "855fc130-a791-4af5-976a-1d5add126623"
      },
      "execution_count": 8,
      "outputs": [
        {
          "output_type": "stream",
          "name": "stdout",
          "text": [
            "['john smith', '20 years', True]\n"
          ]
        }
      ]
    },
    {
      "cell_type": "code",
      "source": [
        "#inputs are used for common task.\n",
        "#concatenating is adding two strings together suing the plus sign\n",
        "\n",
        "name = input(\" what is my name? \")\n",
        "fav_color = input ( \"what is your favorite color? \")\n",
        "print( name+ \" likes \"+ fav_color)"
      ],
      "metadata": {
        "colab": {
          "base_uri": "https://localhost:8080/"
        },
        "id": "Bq3tq1biOSRK",
        "outputId": "f95933e0-9a58-4f5f-b57c-c7325ee5a294"
      },
      "execution_count": 9,
      "outputs": [
        {
          "output_type": "stream",
          "name": "stdout",
          "text": [
            " what is my name? Innocent\n",
            "what is your favorite color? blue\n",
            "Innocent likes blue\n"
          ]
        }
      ]
    },
    {
      "cell_type": "code",
      "source": [
        "name= input(\"whats is your name?  \")\n",
        "print(\"hi \" + name)\n",
        "#remember to add space after the hi before the perentences"
      ],
      "metadata": {
        "colab": {
          "base_uri": "https://localhost:8080/"
        },
        "id": "i17VFSwY1IxR",
        "outputId": "36a3c73e-083d-41ba-a52e-05db4e3b31d9"
      },
      "execution_count": 10,
      "outputs": [
        {
          "output_type": "stream",
          "name": "stdout",
          "text": [
            "whats is your name?  Agu\n",
            "hi Agu\n"
          ]
        }
      ]
    },
    {
      "cell_type": "code",
      "source": [
        "birth_year= input( \"birth year: \")\n",
        "age = 2023- int(birth_year)\n",
        "print(age)"
      ],
      "metadata": {
        "colab": {
          "base_uri": "https://localhost:8080/"
        },
        "id": "HkfYgxgUPoBJ",
        "outputId": "abc62b04-2d02-46e7-866e-9e6ee7b14775"
      },
      "execution_count": 11,
      "outputs": [
        {
          "output_type": "stream",
          "name": "stdout",
          "text": [
            "birth year: 35\n",
            "1988\n"
          ]
        }
      ]
    },
    {
      "cell_type": "code",
      "source": [
        "weight_kg =input(\"weight in Kg \")\n",
        "weight_pounds=int(weight_kg)*2.2046\n",
        "print(weight_pounds)\n",
        "\n"
      ],
      "metadata": {
        "colab": {
          "base_uri": "https://localhost:8080/"
        },
        "id": "H7K9xVz3RH-u",
        "outputId": "843b4a92-e349-4517-b509-037bf402d945"
      },
      "execution_count": 12,
      "outputs": [
        {
          "output_type": "stream",
          "name": "stdout",
          "text": [
            "weight in Kg 110\n",
            "242.506\n"
          ]
        }
      ]
    },
    {
      "cell_type": "code",
      "source": [
        "weight_kg =input(\"weight in Kg \")\n",
        "weight_pounds=int(weight_kg)*2.2046\n",
        "print(weight_pounds)\n",
        "\n",
        "weight_lbs =input(\"weight in lbs \")\n",
        "weight_kg=int(weight_lbs)/2\n",
        "print(weight_kg)"
      ],
      "metadata": {
        "colab": {
          "base_uri": "https://localhost:8080/"
        },
        "id": "47l6B3Ob2Ffx",
        "outputId": "c8a2fc3a-6444-4c08-bc34-f1d10d45dd22"
      },
      "execution_count": null,
      "outputs": [
        {
          "output_type": "stream",
          "name": "stdout",
          "text": [
            "weight in Kg 110\n",
            "242.506\n",
            "weight in lbs 242\n",
            "121.0\n"
          ]
        }
      ]
    },
    {
      "cell_type": "code",
      "source": [
        "weight_kg =input(\"weight in Kg \")\n",
        "\n",
        "if weight_pounds==int(weight_kg)*2.2046:\n",
        "  print(weight_pounds)\n",
        "\n",
        "elif weight_lbs == input(\"weight in lbs \"):\n",
        "  weight_kg=int(weight_lbs)/2\n",
        "  print(weight_kg)"
      ],
      "metadata": {
        "colab": {
          "base_uri": "https://localhost:8080/"
        },
        "id": "zC32trCfxnQ4",
        "outputId": "00f8adf6-c522-4ab1-f099-f0234118d59a"
      },
      "execution_count": null,
      "outputs": [
        {
          "output_type": "stream",
          "name": "stdout",
          "text": [
            "weight in Kg 110\n",
            "242.506\n"
          ]
        }
      ]
    },
    {
      "cell_type": "code",
      "source": [
        "#to calculate the weight in either ponds(lBS) or kilogram(KG)\n",
        "# Get user choice\n",
        "choice = input(\"Enter 'kg' to calculate in kilograms or 'lbs' to calculate in pounds: \")\n",
        "\n",
        "if choice.lower() == 'kg':\n",
        "    # Calculate weight in pounds from kilograms\n",
        "    weight_kg = input(\"Enter weight in kilograms: \")\n",
        "    weight_pounds = float(weight_kg) * 2.2046\n",
        "    print(\"Weight in pounds:\", weight_pounds)\n",
        "elif choice.lower() == 'lbs':\n",
        "    # Calculate weight in kilograms from pounds\n",
        "    weight_lbs = input(\"Enter weight in pounds: \")\n",
        "    weight_kg = float(weight_lbs) / 2.2046\n",
        "    print(\"Weight in kilograms:\", weight_kg)\n",
        "else:\n",
        "    print(\"Invalid choice. Please enter 'kg' or 'lbs'.\")\n"
      ],
      "metadata": {
        "colab": {
          "base_uri": "https://localhost:8080/"
        },
        "id": "BSVecxD53XO5",
        "outputId": "2109ec2d-8c6c-4704-8b10-ac2a9334e172"
      },
      "execution_count": null,
      "outputs": [
        {
          "output_type": "stream",
          "name": "stdout",
          "text": [
            "Enter 'kg' to calculate in kilograms or 'lbs' to calculate in pounds: 110\n",
            "Invalid choice. Please enter 'kg' or 'lbs'.\n"
          ]
        }
      ]
    },
    {
      "cell_type": "code",
      "source": [
        "#to calculate height of a person in either cm or feet\n",
        "\n",
        "choice =input(\"enter 'cm' to calculate in centimeter or 'ft' to calculate in feet: \")\n",
        "if choice==\"cm\":\n",
        "  #calcualte the height of the customer in feet\n",
        "  height_kg= input(\"enter height in centimeter: \")\n",
        "  height_feet= float(height_kg)/ 30.48\n",
        "  print(\"height in feet: \", height_feet)\n",
        "\n",
        "  #calculate the height of the customer in centimeter\n",
        "  height_feet=input(\"enter height in feet: \")\n",
        "  height_cm = float(height_kg)*30.48\n",
        "  print(\"height in cm: \", height_cm)\n",
        "\n",
        "\n"
      ],
      "metadata": {
        "id": "F-dRTbxJ4Ref"
      },
      "execution_count": null,
      "outputs": []
    },
    {
      "cell_type": "code",
      "source": [
        "Name_title = \" my name is Agu of Africa\"\n",
        "print(Name_title)\n",
        "print(Name_title.upper())\n",
        "print(Name_title.lower())"
      ],
      "metadata": {
        "id": "qsQfZjj0X1Oh",
        "colab": {
          "base_uri": "https://localhost:8080/"
        },
        "outputId": "7ee14980-a6a4-41bd-d993-bf7f5f89cae5"
      },
      "execution_count": 3,
      "outputs": [
        {
          "output_type": "stream",
          "name": "stdout",
          "text": [
            " my name is Agu of Africa\n",
            " MY NAME IS AGU OF AFRICA\n",
            " my name is agu of africa\n"
          ]
        }
      ]
    },
    {
      "cell_type": "code",
      "source": [
        "today_is_hot= False\n",
        "today_is_cold=True\n",
        "\n",
        "if today_is_hot:\n",
        "  print(\"it is a hot day, drink plenty water\")\n",
        "  print(\"summer is close\")\n",
        "\n",
        "elif today_is_cold:\n",
        "  print(\"its a cold day, go wear cloth\")\n",
        "  print(\"winter is close\")\n",
        "\n",
        "else:\n",
        "  print(\"today is a great day\")\n",
        "\n",
        "print(\"have a lovely day\")"
      ],
      "metadata": {
        "colab": {
          "base_uri": "https://localhost:8080/"
        },
        "id": "8jkVoEv_cMMk",
        "outputId": "4d0d168a-14d9-4474-f5dc-07d42d70c3f1"
      },
      "execution_count": null,
      "outputs": [
        {
          "output_type": "stream",
          "name": "stdout",
          "text": [
            "its a cold day, go wear cloth\n",
            "winter is close\n",
            "have a lovely day\n"
          ]
        }
      ]
    },
    {
      "cell_type": "code",
      "source": [
        "house_price= 1000000\n",
        "buyer_goodcredit= False\n",
        "\n",
        "if buyer_goodcredit:\n",
        "  downpayment= 0.1 * house_price\n",
        "\n",
        "else:\n",
        "  downpayment = 0.2* house_price\n",
        "\n",
        "print(f\"down payment: ${downpayment}\")"
      ],
      "metadata": {
        "colab": {
          "base_uri": "https://localhost:8080/"
        },
        "id": "4Kk0X7yngear",
        "outputId": "d58cdb73-f891-46f5-c9ac-8e81cfea4db6"
      },
      "execution_count": null,
      "outputs": [
        {
          "output_type": "stream",
          "name": "stdout",
          "text": [
            "down payment: $200000.0\n"
          ]
        }
      ]
    },
    {
      "cell_type": "code",
      "source": [
        "has_high_income= True\n",
        "Has_good_credit= True\n",
        "\n",
        "if has_high_income and Has_good_credit:\n",
        "  print (\"Eligible for a loan\")\n",
        "\n",
        "else :\n",
        "  print(\"fuck off\")"
      ],
      "metadata": {
        "colab": {
          "base_uri": "https://localhost:8080/"
        },
        "id": "oe5BXEKI57m-",
        "outputId": "0dd2d978-e621-4173-af00-9ce6fc01e5c0"
      },
      "execution_count": null,
      "outputs": [
        {
          "output_type": "stream",
          "name": "stdout",
          "text": [
            "Eligible for a loan\n"
          ]
        }
      ]
    },
    {
      "cell_type": "code",
      "source": [
        "has_high_income= False\n",
        "Has_good_credit= True\n",
        "\n",
        "if has_high_income and Has_good_credit:\n",
        "  print (\"Eligible for a loan\")"
      ],
      "metadata": {
        "id": "10ITZB4m68z9"
      },
      "execution_count": null,
      "outputs": []
    },
    {
      "cell_type": "code",
      "source": [],
      "metadata": {
        "id": "rKSZe0M17iTb"
      },
      "execution_count": null,
      "outputs": []
    },
    {
      "cell_type": "code",
      "source": [
        "has_high_income= True\n",
        "Has_good_credit= False\n",
        "\n",
        "if has_high_income and Has_good_credit:\n",
        "  print (\"Eligible for a loan\")\n",
        "\n",
        "else :\n",
        "  print(\"fuck off\")"
      ],
      "metadata": {
        "colab": {
          "base_uri": "https://localhost:8080/"
        },
        "id": "YhsntzBj7WR0",
        "outputId": "575e0783-a522-4fe0-f75f-633fd02080d1"
      },
      "execution_count": null,
      "outputs": [
        {
          "output_type": "stream",
          "name": "stdout",
          "text": [
            "fuck off\n"
          ]
        }
      ]
    },
    {
      "cell_type": "code",
      "source": [
        "\n",
        "has_high_income= False\n",
        "Has_good_credit= True\n",
        "\n",
        "if has_high_income or Has_good_credit:\n",
        "  print(\"Eligible for loan\")"
      ],
      "metadata": {
        "colab": {
          "base_uri": "https://localhost:8080/"
        },
        "id": "wKJVntkf7kXM",
        "outputId": "f35f8d34-d742-40c8-b8d5-74e6ecf55b86"
      },
      "execution_count": null,
      "outputs": [
        {
          "output_type": "stream",
          "name": "stdout",
          "text": [
            "Eligible for loan\n"
          ]
        }
      ]
    },
    {
      "cell_type": "code",
      "source": [
        "has_high_income= True\n",
        "Has_good_credit= True\n",
        "has_criminal_record = False\n",
        "\n",
        "if Has_good_credit and has_high_income and not has_criminal_record :\n",
        "  print(\"Eligible for loan\")\n",
        "\n",
        "else:\n",
        "  print(\"fuck off my nigga\")"
      ],
      "metadata": {
        "colab": {
          "base_uri": "https://localhost:8080/"
        },
        "id": "K9uGbtxS8NxB",
        "outputId": "65d36e6d-13e0-491d-e4ae-917f46b5260b"
      },
      "execution_count": null,
      "outputs": [
        {
          "output_type": "stream",
          "name": "stdout",
          "text": [
            "Eligible for loan\n"
          ]
        }
      ]
    },
    {
      "cell_type": "code",
      "source": [
        "temperature= 30\n",
        "if temperature>30:\n",
        "  print (\"its a hot day\")\n",
        "else:\n",
        "  print(\"its a great wether, go out and make love\")"
      ],
      "metadata": {
        "colab": {
          "base_uri": "https://localhost:8080/"
        },
        "id": "_L9ccPsNJQzU",
        "outputId": "6829a154-2548-4a24-faea-50961331be94"
      },
      "execution_count": null,
      "outputs": [
        {
          "output_type": "stream",
          "name": "stdout",
          "text": [
            "its a great wether, go out and make love\n"
          ]
        }
      ]
    },
    {
      "cell_type": "code",
      "source": [],
      "metadata": {
        "id": "UxIq_5vRLeTB"
      },
      "execution_count": null,
      "outputs": []
    },
    {
      "cell_type": "code",
      "source": [
        "temperature= 67\n",
        "if temperature>30:\n",
        "  print (\"its a hot day\")\n",
        "else:\n",
        "  print(\"its a great wether, go out and make love\")"
      ],
      "metadata": {
        "colab": {
          "base_uri": "https://localhost:8080/"
        },
        "outputId": "c17a04bc-1ca7-4a59-9812-137738a03346",
        "id": "w3g0Co-aLhLM"
      },
      "execution_count": null,
      "outputs": [
        {
          "output_type": "stream",
          "name": "stdout",
          "text": [
            "its a hot day\n"
          ]
        }
      ]
    },
    {
      "cell_type": "code",
      "source": [
        "name = \"oparainnocent omekannaya 1 of the whole of mbaise community\"\n",
        "\n",
        "if len(name) < 49:\n",
        "  print(\"Agu is great, but needs more title\")\n",
        "else:\n",
        "  print(\"Agu calm Down\")\n",
        "\n"
      ],
      "metadata": {
        "colab": {
          "base_uri": "https://localhost:8080/"
        },
        "id": "L9IIAFQSLt9u",
        "outputId": "96840558-aebd-4b7c-e59d-0dd15ef6e761"
      },
      "execution_count": null,
      "outputs": [
        {
          "output_type": "stream",
          "name": "stdout",
          "text": [
            "Agu calm Down\n"
          ]
        }
      ]
    },
    {
      "cell_type": "code",
      "source": [
        "name = \"oparainnocent  omekannaya oparainnocent omekannaya  \"\n",
        "#using the if, elif and else statments\n",
        "if len(name) < 10:\n",
        "  print(\"Agu is great, but needs more title\")\n",
        "elif len(name)< 49:\n",
        "  print(\"names must be a maximum of 49 chatracter\")\n",
        "else:\n",
        "  print(\"Agu calm Down\")"
      ],
      "metadata": {
        "colab": {
          "base_uri": "https://localhost:8080/"
        },
        "id": "kxIna7rVOt1f",
        "outputId": "788312d4-d57b-4cb8-801c-9349f71f24cc"
      },
      "execution_count": null,
      "outputs": [
        {
          "output_type": "stream",
          "name": "stdout",
          "text": [
            "Agu calm Down\n"
          ]
        }
      ]
    },
    {
      "cell_type": "code",
      "source": [
        "#conversion using python\n",
        "weight = int(input(\" weight: \"))\n",
        "unit=input(\"(l)bs or (k) g: \")\n",
        "\n",
        "if unit.upper() == \"l\":\n",
        "  converted= (weight) * 0.45\n",
        "  print(f\"you are {coberted} kilos\")\n",
        "\n",
        "else:\n",
        "  converted = weight// 0.45\n",
        "  print(f\"your {converted} pounds\")"
      ],
      "metadata": {
        "colab": {
          "base_uri": "https://localhost:8080/"
        },
        "id": "Cs7ja9WpPhzP",
        "outputId": "f1cd8ce6-86d0-4a87-c270-539d74efb0c2"
      },
      "execution_count": null,
      "outputs": [
        {
          "output_type": "stream",
          "name": "stdout",
          "text": [
            " weight: 400\n",
            "(l)bs or (k) g: k\n",
            "your 888.0 pounds\n"
          ]
        }
      ]
    },
    {
      "cell_type": "code",
      "source": [
        "#converion using python\n",
        "height = int(input(\"height: \"))\n",
        "Unit = input(\"ft or cm: \")\n",
        "\n",
        "if unit.upper == \"cm\":\n",
        "  converted = (height)* 0.0328\n",
        "  print(f\"you are {converted} ft\")\n",
        "\n",
        "else:\n",
        "  converted = (height)// 0.328\n",
        "  print(f\"you are {converted} cm\")"
      ],
      "metadata": {
        "colab": {
          "base_uri": "https://localhost:8080/"
        },
        "id": "9yPYuwzxSUzL",
        "outputId": "85d6db73-94ea-4f96-9c11-13d92baf3297"
      },
      "execution_count": null,
      "outputs": [
        {
          "output_type": "stream",
          "name": "stdout",
          "text": [
            "height: 180\n",
            "ft or cm: cm\n",
            "you are 548.0 cm\n"
          ]
        }
      ]
    },
    {
      "cell_type": "code",
      "source": [
        "#how to your a \"while\" loop\n",
        "i = 1\n",
        "while i<=5:\n",
        "  print(i)\n",
        "  i = i+1\n",
        "print(\"done\")"
      ],
      "metadata": {
        "colab": {
          "base_uri": "https://localhost:8080/"
        },
        "id": "sdE6AnGbV6Lj",
        "outputId": "b30c3dac-6026-49d8-acde-e0e4a53fb63a"
      },
      "execution_count": null,
      "outputs": [
        {
          "output_type": "stream",
          "name": "stdout",
          "text": [
            "1\n",
            "2\n",
            "3\n",
            "4\n",
            "5\n",
            "done\n"
          ]
        }
      ]
    },
    {
      "cell_type": "code",
      "source": [
        "#building a guessing game using \"while\" loop\n",
        "sceret_number = 8\n",
        "guess_count= 0\n",
        "guess_limit =3\n",
        "\n",
        "while guess_count < guess_limit:\n",
        "  guess=int(input(\"Guess: \"))\n",
        "  guess_count+=1\n",
        "  if guess == sceret_number:\n",
        "    print(\"you won\")\n",
        "    break\n",
        "else:\n",
        "  print(\"sorry you failed, nice next time\")\n",
        "\n"
      ],
      "metadata": {
        "colab": {
          "base_uri": "https://localhost:8080/"
        },
        "id": "hBP0j4ZmWz7Y",
        "outputId": "8560cdb0-70e7-454e-f806-e698bf0595ff"
      },
      "execution_count": null,
      "outputs": [
        {
          "output_type": "stream",
          "name": "stdout",
          "text": [
            "Guess: 6\n",
            "Guess: 7\n",
            "Guess: 6\n",
            "sorry you failed, nice next time\n"
          ]
        }
      ]
    },
    {
      "cell_type": "code",
      "source": [
        "weight = int(input(\"Weight: \"))\n",
        "unit = input(\"(L)bs or (K)g: \")\n",
        "\n",
        "if unit.upper() == \"L\":\n",
        "    converted = weight * 0.45\n",
        "    print(f\"You are {converted} kilos\")\n",
        "\n",
        "elif unit.upper() == \"K\":\n",
        "    converted = weight // 0.45\n",
        "    print(f\"You are {converted} pounds\")\n",
        "\n",
        "else:\n",
        "    print(\"Invalid unit. Please choose either 'L' or 'K'.\")"
      ],
      "metadata": {
        "colab": {
          "base_uri": "https://localhost:8080/"
        },
        "id": "feaqGFFYn3xI",
        "outputId": "215bd1b5-e9c1-4488-d235-3b81fba5e088"
      },
      "execution_count": null,
      "outputs": [
        {
          "output_type": "stream",
          "name": "stdout",
          "text": [
            "Weight: 110\n",
            "(L)bs or (K)g: k\n",
            "You are 244.0 pounds\n"
          ]
        }
      ]
    },
    {
      "cell_type": "code",
      "source": [
        "#how to your a \"while\" loop\n",
        "i = 1\n",
        "while i<=5:\n",
        "  print(\"*\" * i)\n",
        "  i = i+1\n",
        "print(\"done\")"
      ],
      "metadata": {
        "colab": {
          "base_uri": "https://localhost:8080/"
        },
        "id": "bXgBhrCprv-I",
        "outputId": "0ad588e8-70f9-4e6f-f0b2-907ad508226d"
      },
      "execution_count": null,
      "outputs": [
        {
          "output_type": "stream",
          "name": "stdout",
          "text": [
            "*\n",
            "**\n",
            "***\n",
            "****\n",
            "*****\n",
            "done\n"
          ]
        }
      ]
    },
    {
      "cell_type": "code",
      "source": [
        "command = \"\"\n",
        "while True:\n",
        "  command = input(\">\")\n",
        "if command.lower() == \"start\":\n",
        "  print(\"car started...\")\n",
        "elif command.lower()==\"stop\":\n",
        "  print(\"car stopped.\")\n",
        "elif command ==\"help\":\n",
        "  print (\"\"\"\n",
        "  start - to start the car\n",
        "  stop - to stop the car\n",
        "  quit- to quit\n",
        "  \"\"\")\n",
        "elif command== \"quit\":\n",
        "  break\n",
        "\n",
        "\n",
        "  print(\"sorry, I dont undertsnad you\")\n"
      ],
      "metadata": {
        "colab": {
          "base_uri": "https://localhost:8080/"
        },
        "id": "63z4UTJ5rvoa",
        "outputId": "6ba98237-b6f6-4951-aa9f-147f1193fc7d"
      },
      "execution_count": null,
      "outputs": [
        {
          "name": "stdout",
          "output_type": "stream",
          "text": [
            ">START\n"
          ]
        }
      ]
    },
    {
      "cell_type": "code",
      "source": [
        "#for loops in python\n",
        "for item in \"python\":\n",
        "  print(item)"
      ],
      "metadata": {
        "id": "KQHM7iMfX0rl",
        "colab": {
          "base_uri": "https://localhost:8080/"
        },
        "outputId": "ef01ad74-0763-494a-d0ff-1e3059ddffc2"
      },
      "execution_count": null,
      "outputs": [
        {
          "output_type": "stream",
          "name": "stdout",
          "text": [
            "p\n",
            "y\n",
            "t\n",
            "h\n",
            "o\n",
            "n\n"
          ]
        }
      ]
    },
    {
      "cell_type": "code",
      "source": [
        "for item in [\"agu\", \"opara\", \"emeka\"]:\n",
        "  print(item)"
      ],
      "metadata": {
        "colab": {
          "base_uri": "https://localhost:8080/"
        },
        "id": "8PGK01g4D7DI",
        "outputId": "20f84f9c-7a20-4d3b-bac9-82d5138937d5"
      },
      "execution_count": null,
      "outputs": [
        {
          "output_type": "stream",
          "name": "stdout",
          "text": [
            "agu\n",
            "opara\n",
            "emeka\n"
          ]
        }
      ]
    },
    {
      "cell_type": "code",
      "source": [
        "for item in [\"opara emeka agu\"]:\n",
        "  # in python a square bracket is done with a list\n",
        "    print(item)"
      ],
      "metadata": {
        "colab": {
          "base_uri": "https://localhost:8080/"
        },
        "id": "NllC-X2MDzxv",
        "outputId": "eb83a809-5dff-454f-dae1-7c7fb20ec50a"
      },
      "execution_count": null,
      "outputs": [
        {
          "output_type": "stream",
          "name": "stdout",
          "text": [
            "opara emeka agu\n"
          ]
        }
      ]
    },
    {
      "cell_type": "code",
      "source": [
        "for item in range(5):\n",
        "  print(item)"
      ],
      "metadata": {
        "colab": {
          "base_uri": "https://localhost:8080/"
        },
        "id": "1rKfSeMLF9Rr",
        "outputId": "bf189cda-ca13-4992-f998-3d42edde0773"
      },
      "execution_count": null,
      "outputs": [
        {
          "output_type": "stream",
          "name": "stdout",
          "text": [
            "0\n",
            "1\n",
            "2\n",
            "3\n",
            "4\n"
          ]
        }
      ]
    },
    {
      "cell_type": "code",
      "source": [
        "for item in range(5, 10):\n",
        " print(item)"
      ],
      "metadata": {
        "colab": {
          "base_uri": "https://localhost:8080/"
        },
        "id": "put2j9rmG1A3",
        "outputId": "96f8ccd1-58c1-463c-e847-36c87795930f"
      },
      "execution_count": null,
      "outputs": [
        {
          "output_type": "stream",
          "name": "stdout",
          "text": [
            "5\n",
            "6\n",
            "7\n",
            "8\n",
            "9\n"
          ]
        }
      ]
    },
    {
      "cell_type": "code",
      "source": [
        "#range function can b used to step\n",
        "for item in range(5,10,2):\n",
        "  print(item)"
      ],
      "metadata": {
        "colab": {
          "base_uri": "https://localhost:8080/"
        },
        "id": "3ojRo6uaHCJj",
        "outputId": "f4fe5abf-8d61-4270-ff1a-84bc9b8069fa"
      },
      "execution_count": null,
      "outputs": [
        {
          "output_type": "stream",
          "name": "stdout",
          "text": [
            "5\n",
            "7\n",
            "9\n"
          ]
        }
      ]
    },
    {
      "cell_type": "code",
      "source": [
        "#using for loop to calculate price\n",
        "#a string is a sequence of character\n",
        "# list is defined using a square bracket\n",
        "# the range function is used to create a range of numbers\n",
        "prices = [10,20,30]\n",
        "total=0\n",
        "for price in prices:\n",
        "  total+=price\n",
        "  # total = total + price is the same as total +=price\n",
        "print (f\"total: {total}\")"
      ],
      "metadata": {
        "colab": {
          "base_uri": "https://localhost:8080/"
        },
        "id": "Ik4C18wuHXny",
        "outputId": "87aba860-f930-4fc5-aebf-ee3e80e49360"
      },
      "execution_count": null,
      "outputs": [
        {
          "output_type": "stream",
          "name": "stdout",
          "text": [
            "total: 60\n"
          ]
        }
      ]
    },
    {
      "cell_type": "code",
      "source": [
        "#nested loop means adding 1 loop into another\n",
        "for x in range (4):\n",
        "  print(x)"
      ],
      "metadata": {
        "colab": {
          "base_uri": "https://localhost:8080/"
        },
        "id": "yohXKkFrHXkb",
        "outputId": "a6daf3da-fadf-4c31-e561-f36a4cb09bd6"
      },
      "execution_count": null,
      "outputs": [
        {
          "output_type": "stream",
          "name": "stdout",
          "text": [
            "0\n",
            "1\n",
            "2\n",
            "3\n"
          ]
        }
      ]
    },
    {
      "cell_type": "code",
      "source": [
        "for x in range (4):\n",
        "  for y in range (3):\n",
        "    print(f'{x},{y}')"
      ],
      "metadata": {
        "colab": {
          "base_uri": "https://localhost:8080/"
        },
        "id": "uttk38tCHXhf",
        "outputId": "be27a7e5-60d4-49d5-a6fe-f87764c1d8e9"
      },
      "execution_count": null,
      "outputs": [
        {
          "output_type": "stream",
          "name": "stdout",
          "text": [
            "0,0\n",
            "0,1\n",
            "0,2\n",
            "1,0\n",
            "1,1\n",
            "1,2\n",
            "2,0\n",
            "2,1\n",
            "2,2\n",
            "3,0\n",
            "3,1\n",
            "3,2\n"
          ]
        }
      ]
    },
    {
      "cell_type": "code",
      "source": [
        "# i did this myself, i am proud\n",
        "for i in [5,2,5,2,2]:\n",
        "  i= (\"*\"*i)\n",
        "  print(i)"
      ],
      "metadata": {
        "colab": {
          "base_uri": "https://localhost:8080/"
        },
        "id": "91PjxGK6HXeM",
        "outputId": "254cd698-263b-4ba5-88cc-980bdb1d509d"
      },
      "execution_count": null,
      "outputs": [
        {
          "output_type": "stream",
          "name": "stdout",
          "text": [
            "*****\n",
            "**\n",
            "*****\n",
            "**\n",
            "**\n"
          ]
        }
      ]
    },
    {
      "cell_type": "code",
      "source": [
        "\n",
        "numbers= [4,3,5,46,2532,4,6,4,2,10000,2]\n",
        "max = numbers[0]\n",
        "for number in numbers :\n",
        "  if number > max:\n",
        "    max = number\n",
        "print(max)\n"
      ],
      "metadata": {
        "colab": {
          "base_uri": "https://localhost:8080/"
        },
        "id": "tgTOAG9qHXbT",
        "outputId": "afc459fd-666f-46a6-8da3-125947dc3902"
      },
      "execution_count": null,
      "outputs": [
        {
          "output_type": "stream",
          "name": "stdout",
          "text": [
            "10000\n"
          ]
        }
      ]
    },
    {
      "cell_type": "code",
      "source": [],
      "metadata": {
        "id": "iByLHgVtx_1N"
      },
      "execution_count": null,
      "outputs": []
    },
    {
      "cell_type": "code",
      "source": [
        "#2d list in pyhton\n",
        "#2d is a list where each item in the list has a list of its own\n"
      ],
      "metadata": {
        "id": "EpXwgiK3HXYC"
      },
      "execution_count": null,
      "outputs": []
    },
    {
      "cell_type": "code",
      "source": [
        "x= 10\n",
        "x+=3\n",
        "print(x)"
      ],
      "metadata": {
        "id": "1KdecieyHXUj",
        "colab": {
          "base_uri": "https://localhost:8080/"
        },
        "outputId": "513a5b25-03c8-4096-b229-15cf040fc668"
      },
      "execution_count": null,
      "outputs": [
        {
          "output_type": "stream",
          "name": "stdout",
          "text": [
            "13\n"
          ]
        }
      ]
    },
    {
      "cell_type": "code",
      "source": [
        "secret_number = 9\n",
        "guess_count"
      ],
      "metadata": {
        "id": "h5O-9PyoHXQw"
      },
      "execution_count": null,
      "outputs": []
    },
    {
      "cell_type": "code",
      "source": [
        "#how to your a \"while\" loop\n",
        "i = 1\n",
        "while i<=5:\n",
        "  print(i)\n",
        "  i = i+1\n",
        "print(\"done\")"
      ],
      "metadata": {
        "colab": {
          "base_uri": "https://localhost:8080/"
        },
        "outputId": "2e9bab61-4563-4c22-d17a-a14bfde8ad96",
        "id": "zZLEHFyKzEtb"
      },
      "execution_count": null,
      "outputs": [
        {
          "output_type": "stream",
          "name": "stdout",
          "text": [
            "1\n",
            "2\n",
            "3\n",
            "4\n",
            "5\n",
            "done\n"
          ]
        }
      ]
    },
    {
      "cell_type": "code",
      "source": [
        "#for loops is used to interate over an item on a character\n",
        "for item in \"omekannaya\":\n",
        "  print(item)"
      ],
      "metadata": {
        "id": "PBg9hC-BHXMe",
        "colab": {
          "base_uri": "https://localhost:8080/"
        },
        "outputId": "541d4cf5-ba4f-4bbd-cf99-51dcf81cd269"
      },
      "execution_count": null,
      "outputs": [
        {
          "output_type": "stream",
          "name": "stdout",
          "text": [
            "o\n",
            "m\n",
            "e\n",
            "k\n",
            "a\n",
            "n\n",
            "n\n",
            "a\n",
            "y\n",
            "a\n"
          ]
        }
      ]
    },
    {
      "cell_type": "code",
      "source": [
        "for item in [\"agu\",\"emeka\", \"opara\"]:\n",
        "  print(item)"
      ],
      "metadata": {
        "id": "db0GzjysHXBF",
        "colab": {
          "base_uri": "https://localhost:8080/"
        },
        "outputId": "f29c9917-aa1f-4842-d672-88ab8a484acf"
      },
      "execution_count": null,
      "outputs": [
        {
          "output_type": "stream",
          "name": "stdout",
          "text": [
            "agu\n",
            "emeka\n",
            "opara\n"
          ]
        }
      ]
    },
    {
      "cell_type": "code",
      "source": [
        "for item in range(5, 10):\n",
        "  print(item)"
      ],
      "metadata": {
        "colab": {
          "base_uri": "https://localhost:8080/"
        },
        "id": "tR6VT9RL1mKy",
        "outputId": "ca7ab5a9-83b6-4c6c-d6a0-97950052b376"
      },
      "execution_count": null,
      "outputs": [
        {
          "output_type": "stream",
          "name": "stdout",
          "text": [
            "5\n",
            "6\n",
            "7\n",
            "8\n",
            "9\n"
          ]
        }
      ]
    },
    {
      "cell_type": "code",
      "source": [],
      "metadata": {
        "id": "us7EykGg4nXW"
      },
      "execution_count": null,
      "outputs": []
    },
    {
      "cell_type": "code",
      "source": [
        "for item in range(5, 10,2):\n",
        "  print(item)"
      ],
      "metadata": {
        "colab": {
          "base_uri": "https://localhost:8080/"
        },
        "id": "nXursEav1vEw",
        "outputId": "1de30abd-3b6e-4617-9237-e3c58ee91940"
      },
      "execution_count": null,
      "outputs": [
        {
          "output_type": "stream",
          "name": "stdout",
          "text": [
            "5\n",
            "7\n",
            "9\n"
          ]
        }
      ]
    },
    {
      "cell_type": "code",
      "source": [
        "prices= [10,20,30]\n",
        "total=0\n",
        "for prices in prices:\n",
        "  total+= prices\n",
        "print(f\"total amount is {total}\")"
      ],
      "metadata": {
        "colab": {
          "base_uri": "https://localhost:8080/"
        },
        "id": "gXlgBdhT4o_G",
        "outputId": "9c7f85ac-3b96-4341-e159-a40e204a406d"
      },
      "execution_count": null,
      "outputs": [
        {
          "output_type": "stream",
          "name": "stdout",
          "text": [
            "total amount is 60\n"
          ]
        }
      ]
    },
    {
      "cell_type": "code",
      "source": [
        "#nested loop is adding 1 loop into another loop\n",
        "for x in range(3):\n",
        "  for y in range(2):\n",
        "    print(f\"{x},{y}\")\n"
      ],
      "metadata": {
        "colab": {
          "base_uri": "https://localhost:8080/"
        },
        "id": "8eRvbgdT7m4E",
        "outputId": "3f8b249d-64db-4d5a-bca8-f2c446cf5e2f"
      },
      "execution_count": null,
      "outputs": [
        {
          "output_type": "stream",
          "name": "stdout",
          "text": [
            "0,0\n",
            "0,1\n",
            "1,0\n",
            "1,1\n",
            "2,0\n",
            "2,1\n"
          ]
        }
      ]
    },
    {
      "cell_type": "code",
      "source": [
        "numbers=[5,2,5,2,2]\n",
        "for x_count in numbers:\n",
        "  print(\"x\"* x_count)"
      ],
      "metadata": {
        "colab": {
          "base_uri": "https://localhost:8080/"
        },
        "id": "4vy6Evhm8kwL",
        "outputId": "60fa10fe-7cb7-4506-9e11-7eed27a59985"
      },
      "execution_count": null,
      "outputs": [
        {
          "output_type": "stream",
          "name": "stdout",
          "text": [
            "xxxxx\n",
            "xx\n",
            "xxxxx\n",
            "xx\n",
            "xx\n"
          ]
        }
      ]
    },
    {
      "cell_type": "code",
      "source": [
        "numbers=[5,2,5,2,2]\n",
        "for x_count in numbers:\n",
        "  output=\"\"\n",
        "  for count in range(x_count):\n",
        "    output+=\"x\"\n",
        "  print(output)"
      ],
      "metadata": {
        "colab": {
          "base_uri": "https://localhost:8080/"
        },
        "id": "dmoO3Ud__CtB",
        "outputId": "97550cdd-cf9b-4216-87be-314e6a75ccaf"
      },
      "execution_count": null,
      "outputs": [
        {
          "output_type": "stream",
          "name": "stdout",
          "text": [
            "xxxxx\n",
            "xx\n",
            "xxxxx\n",
            "xx\n",
            "xx\n"
          ]
        }
      ]
    },
    {
      "cell_type": "code",
      "source": [
        "numbers=[2,2,2,2,2,8,8]\n",
        "for x_count in numbers:\n",
        "  output=\"\"\n",
        "  for count in range(x_count):\n",
        "    output+=\"x\"\n",
        "  print(output)"
      ],
      "metadata": {
        "colab": {
          "base_uri": "https://localhost:8080/"
        },
        "id": "MzpNPJU2BI23",
        "outputId": "73ecc78e-4bb8-4970-d781-85ef3bf3602f"
      },
      "execution_count": null,
      "outputs": [
        {
          "output_type": "stream",
          "name": "stdout",
          "text": [
            "xx\n",
            "xx\n",
            "xx\n",
            "xx\n",
            "xx\n",
            "xxxxxxxx\n",
            "xxxxxxxx\n"
          ]
        }
      ]
    },
    {
      "cell_type": "code",
      "source": [
        "names= [\"emeka\",\"agu\",\"opara\", \"innocent\"]\n",
        "print(names)\n",
        "list=[1,2,3,4,5]\n",
        "print(list)"
      ],
      "metadata": {
        "colab": {
          "base_uri": "https://localhost:8080/"
        },
        "id": "09TcXyhvFOjc",
        "outputId": "57bd2461-5f7b-4d0a-bc3a-8b3760fec565"
      },
      "execution_count": null,
      "outputs": [
        {
          "output_type": "stream",
          "name": "stdout",
          "text": [
            "['emeka', 'agu', 'opara', 'innocent']\n",
            "[1, 2, 3, 4, 5]\n"
          ]
        }
      ]
    },
    {
      "cell_type": "code",
      "source": [
        "names= [\"emeka\",\"agu\",\"opara\", \"innocent\"]\n",
        "print(names[1:])"
      ],
      "metadata": {
        "colab": {
          "base_uri": "https://localhost:8080/"
        },
        "id": "qV4abQbgFwRz",
        "outputId": "41cb05e9-1f06-48cc-8442-3c0e23cd239c"
      },
      "execution_count": null,
      "outputs": [
        {
          "output_type": "stream",
          "name": "stdout",
          "text": [
            "['agu', 'opara', 'innocent']\n"
          ]
        }
      ]
    },
    {
      "cell_type": "code",
      "source": [
        "matrix = [\n",
        "          [1,2,3],\n",
        "          [4,5,6],\n",
        "          [9,8,7]\n",
        "]\n",
        "print(matrix[1])"
      ],
      "metadata": {
        "colab": {
          "base_uri": "https://localhost:8080/"
        },
        "id": "VukguDeeyBI0",
        "outputId": "08322ac8-3cdf-45cd-a578-76382119189f"
      },
      "execution_count": null,
      "outputs": [
        {
          "output_type": "stream",
          "name": "stdout",
          "text": [
            "[4, 5, 6]\n"
          ]
        }
      ]
    },
    {
      "cell_type": "code",
      "source": [
        "numbers= [5,4,5,6,7,8]\n",
        "numbers.append(50)\n",
        "print(numbers)"
      ],
      "metadata": {
        "colab": {
          "base_uri": "https://localhost:8080/"
        },
        "id": "VmeS2qAjLWv8",
        "outputId": "3d1a11b4-80fe-4599-a138-ab2ca729572c"
      },
      "execution_count": null,
      "outputs": [
        {
          "output_type": "stream",
          "name": "stdout",
          "text": [
            "[5, 4, 5, 6, 7, 8, 50]\n"
          ]
        }
      ]
    },
    {
      "cell_type": "code",
      "source": [
        "numbers= [5,4,5,6,7,8]\n",
        "numbers.insert(0,50)\n",
        "print(numbers)"
      ],
      "metadata": {
        "colab": {
          "base_uri": "https://localhost:8080/"
        },
        "id": "QgUWZbO1MKpb",
        "outputId": "18b3f761-7813-4036-a6f7-4acb83dcf5d8"
      },
      "execution_count": null,
      "outputs": [
        {
          "output_type": "stream",
          "name": "stdout",
          "text": [
            "[50, 5, 4, 5, 6, 7, 8]\n"
          ]
        }
      ]
    },
    {
      "cell_type": "code",
      "source": [
        "numbers= [5,4,5,6,7,8]\n",
        "numbers.insert(6,50)\n",
        "print(numbers)"
      ],
      "metadata": {
        "colab": {
          "base_uri": "https://localhost:8080/"
        },
        "id": "H-67bYZmMU6R",
        "outputId": "ab38b5a9-592f-4948-b271-2fba49808d90"
      },
      "execution_count": null,
      "outputs": [
        {
          "output_type": "stream",
          "name": "stdout",
          "text": [
            "[5, 4, 5, 6, 7, 8, 50]\n"
          ]
        }
      ]
    },
    {
      "cell_type": "code",
      "source": [
        "numbers= [5,4,5,6,7,8]\n",
        "numbers.remove(8)\n",
        "print(numbers)"
      ],
      "metadata": {
        "colab": {
          "base_uri": "https://localhost:8080/"
        },
        "id": "UueMgHZmMZNQ",
        "outputId": "b8392048-8dde-49d9-eacd-7d87fb04614c"
      },
      "execution_count": null,
      "outputs": [
        {
          "output_type": "stream",
          "name": "stdout",
          "text": [
            "[5, 4, 5, 6, 7]\n"
          ]
        }
      ]
    },
    {
      "cell_type": "code",
      "source": [
        "numbers= [5,4,5,6,7,8]\n",
        "numbers.clear()\n",
        "print(numbers)"
      ],
      "metadata": {
        "colab": {
          "base_uri": "https://localhost:8080/"
        },
        "id": "Zg3jirJPMlK6",
        "outputId": "e966f9c5-4613-45c1-fbba-8fde64bfad91"
      },
      "execution_count": null,
      "outputs": [
        {
          "output_type": "stream",
          "name": "stdout",
          "text": [
            "[]\n"
          ]
        }
      ]
    },
    {
      "cell_type": "code",
      "source": [
        "numbers= [5,4,5,6,7,8]\n",
        "numbers.pop()\n",
        "print(numbers)"
      ],
      "metadata": {
        "colab": {
          "base_uri": "https://localhost:8080/"
        },
        "id": "v4AJa2SGMq_5",
        "outputId": "20a6ac0f-2751-4d59-b99b-b118ba4e4769"
      },
      "execution_count": null,
      "outputs": [
        {
          "output_type": "stream",
          "name": "stdout",
          "text": [
            "[5, 4, 5, 6, 7]\n"
          ]
        }
      ]
    },
    {
      "cell_type": "code",
      "source": [
        "numbers= [5,4,5,6,7,8]\n",
        "print(numbers.index(7))"
      ],
      "metadata": {
        "colab": {
          "base_uri": "https://localhost:8080/"
        },
        "id": "y6VY-nCXNiGI",
        "outputId": "619d27ee-df9a-4c2f-b19e-971927bd33d6"
      },
      "execution_count": null,
      "outputs": [
        {
          "output_type": "stream",
          "name": "stdout",
          "text": [
            "4\n"
          ]
        }
      ]
    },
    {
      "cell_type": "code",
      "source": [
        "# to check the existence of a number in a list\n",
        "numbers= [5,4,5,6,7,8]\n",
        "print(4 in numbers)"
      ],
      "metadata": {
        "colab": {
          "base_uri": "https://localhost:8080/"
        },
        "id": "7RaHLYrmNugB",
        "outputId": "eb8e7711-6167-442d-ef90-68146c52b3de"
      },
      "execution_count": null,
      "outputs": [
        {
          "output_type": "stream",
          "name": "stdout",
          "text": [
            "True\n"
          ]
        }
      ]
    },
    {
      "cell_type": "code",
      "source": [
        "# to check the existence of a number in a list\n",
        "numbers= [5,4,5,6,7,8]\n",
        "print(70 in numbers)"
      ],
      "metadata": {
        "colab": {
          "base_uri": "https://localhost:8080/"
        },
        "id": "blmKtWszN_x2",
        "outputId": "cfff5fb3-734d-43a8-b163-5d67776f21ae"
      },
      "execution_count": null,
      "outputs": [
        {
          "output_type": "stream",
          "name": "stdout",
          "text": [
            "False\n"
          ]
        }
      ]
    },
    {
      "cell_type": "code",
      "source": [],
      "metadata": {
        "id": "mVKK9PbISzWl"
      },
      "execution_count": null,
      "outputs": []
    },
    {
      "cell_type": "code",
      "source": [
        "# to count the number of digit in a list you use the count operator\n",
        "number = [3,4,5,6,32,54,6,7,2,4,65,2,4,3,2,3,2,43]\n",
        "print(number.count(2))"
      ],
      "metadata": {
        "colab": {
          "base_uri": "https://localhost:8080/"
        },
        "id": "n4rslsdQOFkJ",
        "outputId": "aa9d2e1d-291c-4176-90d9-75c559a4a8aa"
      },
      "execution_count": null,
      "outputs": [
        {
          "output_type": "stream",
          "name": "stdout",
          "text": [
            "4\n"
          ]
        }
      ]
    },
    {
      "cell_type": "code",
      "source": [
        "# to sort the number of items on a list, we use the \"sort\" operator\n",
        "number = [3,4,5,6,32,54,6,7,2,4,65,2,4,3,2,3,2,43]\n",
        "number.sort()\n",
        "print(number)"
      ],
      "metadata": {
        "colab": {
          "base_uri": "https://localhost:8080/"
        },
        "id": "Pb3XYoZhOoDG",
        "outputId": "48ade475-6ca3-4657-b373-4710737f05a9"
      },
      "execution_count": null,
      "outputs": [
        {
          "output_type": "stream",
          "name": "stdout",
          "text": [
            "[2, 2, 2, 2, 3, 3, 3, 4, 4, 4, 5, 6, 6, 7, 32, 43, 54, 65]\n"
          ]
        }
      ]
    },
    {
      "cell_type": "code",
      "source": [
        "# to sort the number of items on a list, we use the \"sort\" operator.\n",
        "# you can also sort in decending other, by reversing the method\n",
        "number = [3,4,5,6,32,54,6,7,2,4,65,2,4,3,2,3,2,43]\n",
        "number.sort()\n",
        "print(number)"
      ],
      "metadata": {
        "id": "No3hwyxCPRB2"
      },
      "execution_count": null,
      "outputs": []
    },
    {
      "cell_type": "code",
      "source": [
        "number = [3,4,5,6,32,54,6,7,2,4,65,2,4,3,2,3,2,43]\n",
        "number2= number.copy()\n",
        "number.append(20)\n",
        "print(number2)"
      ],
      "metadata": {
        "colab": {
          "base_uri": "https://localhost:8080/"
        },
        "id": "WmU2JAnnSW8V",
        "outputId": "91cbb008-1b19-4275-a73f-e1533b0fbd09"
      },
      "execution_count": null,
      "outputs": [
        {
          "output_type": "stream",
          "name": "stdout",
          "text": [
            "[3, 4, 5, 6, 32, 54, 6, 7, 2, 4, 65, 2, 4, 3, 2, 3, 2, 43]\n"
          ]
        }
      ]
    },
    {
      "cell_type": "code",
      "source": [
        "# i discovered this my self\n",
        "# to append a number on a list using the += sign\n",
        "numbers= [5,4,5,6,7,8]\n",
        "numbers += [12]\n",
        "print (numbers)"
      ],
      "metadata": {
        "colab": {
          "base_uri": "https://localhost:8080/"
        },
        "id": "-6PAuwyJS0T0",
        "outputId": "abbfa9ee-6ded-4f50-d577-bf3b78b23073"
      },
      "execution_count": null,
      "outputs": [
        {
          "output_type": "stream",
          "name": "stdout",
          "text": [
            "[5, 4, 5, 6, 7, 8, 12]\n"
          ]
        }
      ]
    },
    {
      "cell_type": "code",
      "source": [
        "# to remove the dublicate in a list\n",
        "number = [3,4,5,6,32,54,6,7,2,4,65,2,4,3,2,3,2,43]\n",
        "uniques=[]\n",
        "for number in number:\n",
        "  if number not in uniques:\n",
        "    uniques.append(number)\n",
        "print(uniques)"
      ],
      "metadata": {
        "colab": {
          "base_uri": "https://localhost:8080/"
        },
        "id": "96fguee1TQbs",
        "outputId": "ecd2c87f-058b-4ee0-cee3-b197227d67c5"
      },
      "execution_count": null,
      "outputs": [
        {
          "output_type": "stream",
          "name": "stdout",
          "text": [
            "[3, 4, 5, 6, 32, 54, 7, 2, 65, 43]\n"
          ]
        }
      ]
    },
    {
      "cell_type": "code",
      "source": [
        "number= [3, 4, 5, 6, 32, 54, 7, 2, 65, 43]\n",
        "number.sort()\n",
        "print(number)"
      ],
      "metadata": {
        "colab": {
          "base_uri": "https://localhost:8080/"
        },
        "id": "w0tSQX3qUTez",
        "outputId": "3d2d9c0a-d2dc-459a-f39b-e402f063c157"
      },
      "execution_count": null,
      "outputs": [
        {
          "output_type": "stream",
          "name": "stdout",
          "text": [
            "[2, 3, 4, 5, 6, 7, 32, 43, 54, 65]\n"
          ]
        }
      ]
    },
    {
      "cell_type": "code",
      "source": [
        "# to remove the dublicate in a list and\n",
        "# sort the list of numbers in descending order\n",
        "number = [3,4,5,6,32,54,6,7,2,4,65,2,4,3,2,3,2,43]\n",
        "uniques=[]\n",
        "for number in number:\n",
        "  if number not in uniques:\n",
        "    uniques.append(number)\n",
        "uniques.sort()\n",
        "uniques.reverse()\n",
        "print(uniques)"
      ],
      "metadata": {
        "colab": {
          "base_uri": "https://localhost:8080/"
        },
        "id": "x6iVnPozUg2x",
        "outputId": "f8198ef7-527f-491e-b29b-fd707ebfbc9a"
      },
      "execution_count": null,
      "outputs": [
        {
          "output_type": "stream",
          "name": "stdout",
          "text": [
            "[65, 54, 43, 32, 7, 6, 5, 4, 3, 2]\n"
          ]
        }
      ]
    },
    {
      "cell_type": "code",
      "source": [
        "#tupples are similar to list but they cannt be modified or changed\n",
        "numbers = (1,2,3,4,5)\n",
        "\n",
        "#the above is a tupples.\n",
        "# only use topples when you dont want your list to be modified\n",
        "print(numbers)\n"
      ],
      "metadata": {
        "colab": {
          "base_uri": "https://localhost:8080/"
        },
        "id": "p_ynXGQEnKIt",
        "outputId": "a4b411c7-e8f0-422e-83dc-800df08bbbbf"
      },
      "execution_count": null,
      "outputs": [
        {
          "output_type": "stream",
          "name": "stdout",
          "text": [
            "(1, 2, 3, 4, 5)\n"
          ]
        }
      ]
    },
    {
      "cell_type": "code",
      "source": [
        "#unpacking\n",
        "coordinates= (1,2,3,4,5)\n",
        "x= coordinates[0]\n",
        "print(x)"
      ],
      "metadata": {
        "colab": {
          "base_uri": "https://localhost:8080/"
        },
        "id": "78KJiojvn43-",
        "outputId": "f9f1369f-981e-4ec5-f033-37f47b0eaa41"
      },
      "execution_count": null,
      "outputs": [
        {
          "output_type": "stream",
          "name": "stdout",
          "text": [
            "1\n"
          ]
        }
      ]
    },
    {
      "cell_type": "code",
      "source": [
        "#unpacking\n",
        "coordinates= (1,2,3,4,5)\n",
        "x= coordinates[0]\n",
        "y=coordinates[1]\n",
        "z= coordinates[2]\n",
        "\n",
        "print(x)\n",
        "print(y)\n",
        "print(z)"
      ],
      "metadata": {
        "colab": {
          "base_uri": "https://localhost:8080/"
        },
        "id": "EIhmPyEpq1vL",
        "outputId": "bafa2ae8-88c8-4027-ed92-97a9dcea974e"
      },
      "execution_count": null,
      "outputs": [
        {
          "output_type": "stream",
          "name": "stdout",
          "text": [
            "1\n",
            "2\n",
            "3\n"
          ]
        }
      ]
    },
    {
      "cell_type": "code",
      "source": [
        "#unpacking\n",
        "coordinates= (1,2,3,4,5)\n",
        "x= coordinates[0]\n",
        "y=coordinates[1]\n",
        "z= coordinates[2]\n",
        "\n",
        "# the above is same as\n",
        "\n",
        "x,y,z= coordinates\n",
        "\n"
      ],
      "metadata": {
        "id": "05qJvgK5rJRi"
      },
      "execution_count": null,
      "outputs": []
    },
    {
      "cell_type": "code",
      "source": [
        "#unpacking\n",
        "numbers= (1,2,3,6,9)\n",
        "\n",
        "x,y,z,a,r = numbers\n",
        "#for the unpacking to work, all the items on the list must be assigned to a variable\n",
        "print(y)"
      ],
      "metadata": {
        "colab": {
          "base_uri": "https://localhost:8080/"
        },
        "id": "oQtrc_9nrpBs",
        "outputId": "943a856b-7d33-49f4-85e1-128d0aab3e6a"
      },
      "execution_count": null,
      "outputs": [
        {
          "output_type": "stream",
          "name": "stdout",
          "text": [
            "2\n"
          ]
        }
      ]
    },
    {
      "cell_type": "code",
      "source": [
        "#disctionary, used for key value pair\n",
        "#example\n",
        "customer={\n",
        "    \"name\": \"opara innocent\",\n",
        "    \"age\": 35,\n",
        "    \"address\": \"34e talbot village\"\n",
        "}\n",
        "#note, each key should be unique, no repeatation allowed\n",
        "print(customer[\"name\"])"
      ],
      "metadata": {
        "colab": {
          "base_uri": "https://localhost:8080/"
        },
        "id": "nwm7XPM3sdS5",
        "outputId": "0863b0fd-ef42-48d6-c120-deb05969604c"
      },
      "execution_count": null,
      "outputs": [
        {
          "output_type": "stream",
          "name": "stdout",
          "text": [
            "opara innocent\n"
          ]
        }
      ]
    },
    {
      "cell_type": "code",
      "source": [
        "customer={\n",
        "    \"name\": \"opara innocent\",\n",
        "    \"age\": 35,\n",
        "\n",
        "}\n",
        "\n",
        "print(customer.get(\"birthday\", \"26th August, 1988\"))\n",
        "# to add to a dist list we use the get function"
      ],
      "metadata": {
        "colab": {
          "base_uri": "https://localhost:8080/"
        },
        "id": "2MfXtbVDu_fB",
        "outputId": "ef844f18-20f6-4343-8d65-ae2fce57fe4c"
      },
      "execution_count": 17,
      "outputs": [
        {
          "output_type": "stream",
          "name": "stdout",
          "text": [
            "26th August, 1988\n"
          ]
        }
      ]
    },
    {
      "cell_type": "code",
      "source": [
        "# to change numbers to words\n",
        "phone = input(\"phone: \")\n",
        "digits_mapping={\n",
        "    \"1\": \"one\",\n",
        "    \"2\": \"two\",\n",
        "    \"3\": \"three\",\n",
        "    \"4\": \"four\"\n",
        "}\n",
        "output =\"\"\n",
        "for ch in phone:\n",
        "  output += digits_mapping.get(ch, \"!\")\n",
        "print(output)"
      ],
      "metadata": {
        "colab": {
          "base_uri": "https://localhost:8080/"
        },
        "id": "pdars8lswfiP",
        "outputId": "1db4c9ef-3f86-497e-ba0d-6fcaf1d4da8d"
      },
      "execution_count": 18,
      "outputs": [
        {
          "output_type": "stream",
          "name": "stdout",
          "text": [
            "phone: 7\n",
            "!\n"
          ]
        }
      ]
    },
    {
      "cell_type": "code",
      "source": [
        "# a function is a container that contains a few lines of codes\n",
        "#that performs a specific task\n",
        "def greet_user():\n",
        "  print(\"hello Agu\")\n",
        "  print(\"how are you today, Mr Agu\")\n",
        "\n",
        "print(\"start\")\n",
        "greet_user()\n",
        "print(\"finish\")"
      ],
      "metadata": {
        "colab": {
          "base_uri": "https://localhost:8080/"
        },
        "id": "ZjAStpDJ2tui",
        "outputId": "7d0575f9-22cf-4a5e-9c53-fa29d4fe4a24"
      },
      "execution_count": null,
      "outputs": [
        {
          "output_type": "stream",
          "name": "stdout",
          "text": [
            "start\n",
            "hello Agu\n",
            "how are you today, Mr Agu\n",
            "finish\n"
          ]
        }
      ]
    },
    {
      "cell_type": "code",
      "source": [
        "def greet_user():\n",
        "  print(\"hello Agu\")\n",
        "  print(\"how are you today, Mr Agu\")\n",
        "\n",
        "number = [3,4,5,6,32,54,6,7,2,4,65,2,4,3,2,3,2,43]\n",
        "number2= number.copy()\n",
        "number.append(20)\n",
        "print(number)\n",
        "greet_user()"
      ],
      "metadata": {
        "colab": {
          "base_uri": "https://localhost:8080/"
        },
        "outputId": "634ea45e-b88b-4c90-9368-88cec88ab6b7",
        "id": "8vybOqhZ5D3C"
      },
      "execution_count": null,
      "outputs": [
        {
          "output_type": "stream",
          "name": "stdout",
          "text": [
            "[3, 4, 5, 6, 32, 54, 6, 7, 2, 4, 65, 2, 4, 3, 2, 3, 2, 43, 20]\n",
            "hello Agu\n",
            "how are you today, Mr Agu\n"
          ]
        }
      ]
    },
    {
      "cell_type": "code",
      "source": [
        "try:\n",
        "  age=int(input(\"age: \"))\n",
        "  print(age)\n",
        "except ValueError:\n",
        "  print(\"you are doing well, try get sense\")"
      ],
      "metadata": {
        "colab": {
          "base_uri": "https://localhost:8080/"
        },
        "id": "_8uo1I-U6FNQ",
        "outputId": "f71b983a-35bf-4318-f3df-2ceb8c1589d1"
      },
      "execution_count": null,
      "outputs": [
        {
          "output_type": "stream",
          "name": "stdout",
          "text": [
            "age: agu\n",
            "you are doing well, try get sense\n"
          ]
        }
      ]
    },
    {
      "cell_type": "code",
      "source": [
        "try:\n",
        "  age=int(input(\"age: \"))\n",
        "  print(age)\n",
        "except ValueError:\n",
        "  print(\"you are doing well, try get sense\")"
      ],
      "metadata": {
        "colab": {
          "base_uri": "https://localhost:8080/"
        },
        "id": "IY-oRuerG594",
        "outputId": "dd4a4ee1-2096-4c3f-859b-2e8b21d73d2f"
      },
      "execution_count": null,
      "outputs": [
        {
          "output_type": "stream",
          "name": "stdout",
          "text": [
            "age: 35\n",
            "35\n"
          ]
        }
      ]
    },
    {
      "cell_type": "code",
      "source": [
        "try:\n",
        "  age=int(input(\"age: \"))\n",
        "  income=3000000\n",
        "  risk= income/age\n",
        "  print(risk)\n",
        "except ValueError:\n",
        "  print(\"you are doing well, try get sense\")\n"
      ],
      "metadata": {
        "colab": {
          "base_uri": "https://localhost:8080/"
        },
        "id": "EZSfJI9VHGRP",
        "outputId": "6e66081b-18b2-44a7-c07f-f48d2f97ae1a"
      },
      "execution_count": null,
      "outputs": [
        {
          "output_type": "stream",
          "name": "stdout",
          "text": [
            "age: 50\n",
            "60000.0\n"
          ]
        }
      ]
    },
    {
      "cell_type": "code",
      "source": [
        "try:\n",
        "  age=int(input(\"age: \"))\n",
        "  income=3000000\n",
        "  risk= income/age\n",
        "  print(risk)\n",
        "except ValueError:\n",
        "  print(\"you are doing well, try get sense\")"
      ],
      "metadata": {
        "colab": {
          "base_uri": "https://localhost:8080/"
        },
        "id": "ptnSbXfZHVXu",
        "outputId": "91bce8c2-41f4-4f84-b89e-d645217ee19e"
      },
      "execution_count": null,
      "outputs": [
        {
          "output_type": "stream",
          "name": "stdout",
          "text": [
            "age: hear\n",
            "you are doing well, try get sense\n"
          ]
        }
      ]
    },
    {
      "cell_type": "code",
      "source": [
        "try:\n",
        "  age=int(input(\"age: \"))\n",
        "  income=3000000\n",
        "  risk= income/age\n",
        "  print(risk)\n",
        "except ValueError:\n",
        "  print(\"you are doing well, try get sense\")\n",
        "except ZeroDivisionError:\n",
        "  print(\"Your Age cannot be zero, ole\")"
      ],
      "metadata": {
        "colab": {
          "base_uri": "https://localhost:8080/"
        },
        "id": "obiaKissHoqP",
        "outputId": "7898d7c6-9503-4609-ee84-0db4ff4b9d1b"
      },
      "execution_count": null,
      "outputs": [
        {
          "output_type": "stream",
          "name": "stdout",
          "text": [
            "age: 10\n",
            "300000.0\n"
          ]
        }
      ]
    },
    {
      "cell_type": "code",
      "source": [
        "#classess in pythin are important but they are not specific to python\n",
        "#classes are used to define new types\n",
        "#use comments to explain why amd how not what\n",
        "# an object is an instance of a class\n",
        "class Point:\n",
        "  def move(self):\n",
        "    print(\"move\")\n",
        "\n",
        "  def draw(self):\n",
        "    print(\"draw\")\n",
        "\n",
        "point1 = Point()\n",
        "point1.x=30\n",
        "point1.y=40\n",
        "print(point1.x)\n",
        "point1.draw()\n",
        "\n",
        "point2 = Point()\n",
        "point2.x=1\n",
        "print(point2.x)"
      ],
      "metadata": {
        "colab": {
          "base_uri": "https://localhost:8080/"
        },
        "id": "8OXL-fpuiJdm",
        "outputId": "96e9e889-a388-42f1-d878-8fd01135e2fb"
      },
      "execution_count": null,
      "outputs": [
        {
          "output_type": "stream",
          "name": "stdout",
          "text": [
            "30\n",
            "draw\n",
            "1\n"
          ]
        }
      ]
    },
    {
      "cell_type": "code",
      "source": [
        "number=[1,2,3,4]\n",
        "number+=[5]\n",
        "print(number)"
      ],
      "metadata": {
        "colab": {
          "base_uri": "https://localhost:8080/"
        },
        "id": "wLo7_MAjjbJc",
        "outputId": "3db40c64-1b4c-4904-af96-223d12b74b0b"
      },
      "execution_count": null,
      "outputs": [
        {
          "output_type": "stream",
          "name": "stdout",
          "text": [
            "[1, 2, 3, 4, 5]\n"
          ]
        }
      ]
    },
    {
      "cell_type": "code",
      "source": [
        "#a constructor is a function that gets created when a function is created\n"
      ],
      "metadata": {
        "id": "b0cjnkrRla9b"
      },
      "execution_count": null,
      "outputs": []
    },
    {
      "cell_type": "code",
      "source": [
        "#inheritance is a mechanism for reusing codes\n",
        "class Mammal:\n",
        "  def walk(self):\n",
        "    print(\"walk\")\n",
        "class Dog(Mammal):\n",
        "  def bark(self):\n",
        "    print(\"bark\")\n",
        "\n",
        "class Cat(Mammal):\n",
        "  pass\n",
        "\n",
        "dog1= Dog()\n",
        "dog1.walk()\n",
        "dog1.bark()\n"
      ],
      "metadata": {
        "colab": {
          "base_uri": "https://localhost:8080/"
        },
        "id": "11Vgy_SGXQMz",
        "outputId": "264b5c97-84c2-4860-f10d-378dae2ac057"
      },
      "execution_count": null,
      "outputs": [
        {
          "output_type": "stream",
          "name": "stdout",
          "text": [
            "walk\n",
            "bark\n"
          ]
        }
      ]
    },
    {
      "cell_type": "code",
      "source": [
        "# a module is a file with python codes"
      ],
      "metadata": {
        "id": "xRI8g0AqZIQM"
      },
      "execution_count": null,
      "outputs": []
    }
  ]
}